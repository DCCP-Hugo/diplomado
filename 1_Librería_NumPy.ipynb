{
  "nbformat": 4,
  "nbformat_minor": 0,
  "metadata": {
    "kernelspec": {
      "display_name": "Python 3",
      "language": "python",
      "name": "python3"
    },
    "language_info": {
      "codemirror_mode": {
        "name": "ipython",
        "version": 3
      },
      "file_extension": ".py",
      "mimetype": "text/x-python",
      "name": "python",
      "nbconvert_exporter": "python",
      "pygments_lexer": "ipython3",
      "version": "3.7.6"
    },
    "colab": {
      "name": "1-Librería NumPy.ipynb",
      "provenance": [],
      "collapsed_sections": [
        "sFMmV6Bdjj34",
        "s2SBgyDBkVbb",
        "6H_2sJOAlIxb",
        "x2JVn3iUmaMC",
        "B6jnUlWvmmjJ"
      ],
      "include_colab_link": true
    }
  },
  "cells": [
    {
      "cell_type": "markdown",
      "metadata": {
        "id": "view-in-github",
        "colab_type": "text"
      },
      "source": [
        "<a href=\"https://colab.research.google.com/github/DCCP-Hugo/diplomado/blob/master/1_Librer%C3%ADa_NumPy.ipynb\" target=\"_parent\"><img src=\"https://colab.research.google.com/assets/colab-badge.svg\" alt=\"Open In Colab\"/></a>"
      ]
    },
    {
      "cell_type": "markdown",
      "metadata": {
        "id": "6I35N-xQ9i88"
      },
      "source": [
        "# <font color='blue'>**Librería NumPy**</font>"
      ]
    },
    {
      "cell_type": "markdown",
      "metadata": {
        "id": "0_32E2Xx9i89"
      },
      "source": [
        "**NumPy**  asdasdasdas es la librería por excelencia para computación científica en Python. Integra muchas funciones de cálculo matricial de N dimensiones, y una variedad de rutinas para operaciones rápidas en matrices, que incluyen manipulación matemática, lógica, y de tamaño y forma, clasificación, selección, I/O, transformada de Fourier, algebra lineal, operaciones estadísticas, simulación aleatoria y muchas otras."
      ]
    },
    {
      "cell_type": "markdown",
      "metadata": {
        "id": "KLxOLg7Q-_-t"
      },
      "source": [
        "<img src='https://drive.google.com/uc?export=view&id=1_foOq3ZJE-GKzm9hDpuTDrT8c_YxkorY' width=\"400\" align=\"center\" style=\"margin-right: 20px\">"
      ]
    },
    {
      "cell_type": "markdown",
      "metadata": {
        "id": "P40p1e1b_BwM"
      },
      "source": [
        "En el núcleo del paquete NumPy está el objeto **ndarray**. Este encapsula matrices n-dimensionales de tipos de datos homogeneos, con muchas operaciones que se realizan en código compilado (lenguaje C) para mejorar el rendimiento. Es la librería de cálculo más popular debido a su facilidad de uso y la rapidez de sus cálculos.\n",
        "\n",
        "Existen varias diferencias importantes entre las matrices de NumPy y las secuencias estándar de Python:\n",
        "\n",
        "* Las matrices NumPy **tienen un tamaño fijo** al momento de la creación, a diferencia de las listas de Python (que pueden crecer dinámicamente). Cambiar el tamaño de un ndarray creará una nueva matriz y eliminará la original.\n",
        "\n",
        "\n",
        "* Se requiere que todos los elementos de una matriz NumPy correspondan al mismo tipo de datos y, por lo tanto, tendrán el mismo tamaño en la memoria. La excepción: uno puede tener matrices de objetos (Python, incluido NumPy), lo que permite matrices de elementos de diferentes tamaños.\n",
        "\n",
        "\n",
        "* Las matrices NumPy facilitan las operaciones matemáticas avanzadas y las de otro tipo, en grandes cantidades de datos. Por lo general, estas operaciones se ejecutan de manera más eficiente y con menos código que al usar las secuencias integradas de Python.\n",
        "\n",
        "\n",
        "* Una multitud de paquetes científicos y matemáticos basados en Python utilizan matrices NumPy; aunque estos paquetes suelen admitir la entrada de secuencias estándar de Python, convierten dicha entrada en matrices NumPy antes del procesamiento y, a menudo, generan matrices NumPy. En otras palabras, para usar de manera eficiente gran parte (quizás incluso la mayoría) del software científico/matemático basado en Python de hoy en día, simplemente saber cómo usar los tipos de secuencia incorporados de Python es insuficiente; uno también necesita saber cómo usar las matrices NumPy."
      ]
    },
    {
      "cell_type": "markdown",
      "metadata": {
        "id": "Fk6_al2D9i8-"
      },
      "source": [
        "## <font color='blue'>**Instalando NumPy**</font>"
      ]
    },
    {
      "cell_type": "markdown",
      "metadata": {
        "id": "Lii79DzU9i8_"
      },
      "source": [
        "Para instalar NumPy, se recomienda utilizar una distribución científica de Python. Las instrucciones completas para instalar NumPy en sus sistemas operativos, las pueden encontrar en <a href=”https://www.scipy.org/install.html”>https://www.scipy.org/install.html</a>.\n",
        "\n",
        "Si ya tienes Python, puedes instalar NumPy con:"
      ]
    },
    {
      "cell_type": "markdown",
      "metadata": {
        "id": "j0br_7xb9i9A"
      },
      "source": [
        "\n",
        "\n",
        "```\n",
        "conda install numpy\n",
        "```\n",
        "\n"
      ]
    },
    {
      "cell_type": "markdown",
      "metadata": {
        "id": "kP0GBMTp9i9A"
      },
      "source": [
        "o"
      ]
    },
    {
      "cell_type": "markdown",
      "metadata": {
        "id": "YLyw_RP19i9B"
      },
      "source": [
        "```\n",
        "pip install numpy\n",
        "```"
      ]
    },
    {
      "cell_type": "markdown",
      "metadata": {
        "id": "s8oJyY599i9C"
      },
      "source": [
        "Si aún no tiene Python instalado &#128544; &#128544; &#128544;, se recomienda utilizar **Anaconda**. Es la forma más sencilla de empezar. Lo bueno de obtener esta distribución es el hecho de que no necesita preocuparse demasiado por instalar NumPy por separado o cualquiera de los paquetes principales que utilizará para sus análisis de datos, como pandas, Scikit-Learn, entre otras.\n",
        "\n",
        "Puede encontrar todos los detalles de instalación en la sección Instalación en <a href=”https://www.scipy.org/install.html”>SciPy</a>. "
      ]
    },
    {
      "cell_type": "markdown",
      "metadata": {
        "id": "BvK1UVkp9i9C"
      },
      "source": [
        "### <font color='blue'>**¿Cómo importar NumPy?**</font>\n",
        "\n",
        "Siempre que desee utilizar un paquete o una biblioteca en su código, **primero debe hacerlo accesible**.\n",
        "\n",
        "Para comenzar a usar NumPy y todas las funciones disponibles en NumPy, necesitará importarlo. Esto se puede hacer fácilmente con esta declaración de importación:"
      ]
    },
    {
      "cell_type": "code",
      "metadata": {
        "id": "U-5_aVRT9i9D"
      },
      "source": [
        "import numpy as np"
      ],
      "execution_count": null,
      "outputs": []
    },
    {
      "cell_type": "markdown",
      "metadata": {
        "id": "77TTmC2l9i9H"
      },
      "source": [
        "Acortamos el nombre **numpy** a **np** para ahorrar tiempo y para mantener el código legible para que cualquiera que trabaje con su código pueda entenderlo y ejecutarlo fácilmente."
      ]
    },
    {
      "cell_type": "markdown",
      "metadata": {
        "id": "BRZG69kL9i9H"
      },
      "source": [
        "### <font color='blue'>**¿Cuál es la diferencia entre una lista y un matriz NumPy?**</font>\n",
        "\n",
        "NumPy ofrece una enorme variedad de formas rápidas y eficientes de crear matrices y manipular datos numéricos. Si bien una lista de Python puede contener diferentes tipos de datos dentro de una sola lista, todos los elementos de una matriz NumPy deben ser homogéneos. Las operaciones matemáticas que deben realizarse en matrices serían extremadamente ineficaces si las matrices no fueran homogéneas.\n",
        "\n",
        "#### <font color='blue'>**¿Por qué usar NumPy?**</font>\n",
        "\n",
        "Las matrices NumPy son más rápidas y compactas que las listas de Python. Una matriz consume menos memoria. NumPy usa mucha menos memoria para almacenar datos y proporciona un mecanismo para especificar los tipos de datos. Esto permite optimizar aún más el código."
      ]
    },
    {
      "cell_type": "code",
      "metadata": {
        "id": "dkBdIUN69i9I",
        "outputId": "68f874e2-eba8-41d0-8cd4-9983798c6c63",
        "colab": {
          "base_uri": "https://localhost:8080/",
          "height": 102
        }
      },
      "source": [
        "import sys\n",
        "\n",
        "S = range(10000)\n",
        "print('Resultado de memoria asignada a la lista de Python:')\n",
        "print(sys.getsizeof(5)*len(S))\n",
        "print()\n",
        "D=np.arange(10000)\n",
        "print('Resultado de memoria asignada a NumPy array:')\n",
        "print(D.size*D.itemsize)"
      ],
      "execution_count": null,
      "outputs": [
        {
          "output_type": "stream",
          "text": [
            "Resultado de memoria asignada a la lista de Python:\n",
            "280000\n",
            "\n",
            "Resultado de memoria asignada a NumPy array:\n",
            "80000\n"
          ],
          "name": "stdout"
        }
      ]
    },
    {
      "cell_type": "code",
      "metadata": {
        "id": "XofwE9oH9i9L",
        "outputId": "c6b728dd-cf08-49b8-f3a9-94ed67530f92",
        "colab": {
          "base_uri": "https://localhost:8080/",
          "height": 102
        }
      },
      "source": [
        "import time\n",
        "SIZE = 1000000\n",
        "\n",
        "L1 = range(SIZE)\n",
        "L2 = range(SIZE)\n",
        "A1 = np.arange(SIZE)\n",
        "A2 = np.arange(SIZE)\n",
        "\n",
        "start = time.time()\n",
        "result = [(x,y) for x,y in zip(L1,L2)]\n",
        "print('Resultado test de velocidad para lista de Python [ms]:')\n",
        "print((time.time()-start)*1000)\n",
        "print()\n",
        "\n",
        "start = time.time()\n",
        "result = A1+A2\n",
        "print('Resultado test de velocidad para NumPy array [ms]:')\n",
        "print((time.time()-start)*1000)\n"
      ],
      "execution_count": null,
      "outputs": [
        {
          "output_type": "stream",
          "text": [
            "Resultado test de velocidad para lista de Python [ms]:\n",
            "277.3613929748535\n",
            "\n",
            "Resultado test de velocidad para NumPy array [ms]:\n",
            "49.23558235168457\n"
          ],
          "name": "stdout"
        }
      ]
    },
    {
      "cell_type": "markdown",
      "metadata": {
        "id": "3t_jEFXa9i9N"
      },
      "source": [
        "### <font color='blue'>**¿Qué es un matriz?**</font>\n",
        "\n",
        "Una matriz (o arreglo) es la estructura de datos central de la biblioteca NumPy. Una matriz es una cuadrícula de valores y contiene información sobre los datos sin procesar, cómo ubicar un elemento y cómo interpretar un elemento. Tiene una cuadrícula de elementos que se pueden indexar de varias formas. Los elementos son todos del mismo tipo, denominados **array dtype**.\n",
        "\n",
        "<img src='https://drive.google.com/uc?export=view&id=1gzNzhv_B2Dcu5NzozSAXqmNp3zio6Mc1' width=\"500\" align=\"center\" style=\"margin-right: 20px\">\n",
        "\n",
        "**Nota: es posible referirse la estructura ndarray de NumPy de las siguientes formas: array, arreglo, y/o matriz.**\n",
        "\n",
        "Una matriz puede ser indexada por una tupla de enteros no negativos, por booleanos, por otra matriz o por enteros. El rango de la matriz es el número de dimensiones. La forma de la matriz es una tupla de números enteros que dan el tamaño de la matriz a lo largo de cada dimensión.\n",
        "\n",
        "Una forma en que podemos inicializar matrices NumPy es a partir de listas de Python, utilizando listas anidadas para datos bidimensionales o de mayor dimensión. Por ejemplo:\n"
      ]
    },
    {
      "cell_type": "code",
      "metadata": {
        "id": "X0foAkMz9i9O",
        "outputId": "2c3a6a51-6c4f-4a0a-a486-1a840218f1d4",
        "colab": {
          "base_uri": "https://localhost:8080/",
          "height": 34
        }
      },
      "source": [
        "A = np.array([1, 2, 3, 4, 5])\n",
        "print(A)"
      ],
      "execution_count": null,
      "outputs": [
        {
          "output_type": "stream",
          "text": [
            "[1 2 3 4 5]\n"
          ],
          "name": "stdout"
        }
      ]
    },
    {
      "cell_type": "markdown",
      "metadata": {
        "id": "rMAX7IFM9i9Q"
      },
      "source": [
        "o"
      ]
    },
    {
      "cell_type": "code",
      "metadata": {
        "id": "NJm3BodP9i9R",
        "outputId": "9e82ebfb-8513-434c-c078-b8a113f49fd7",
        "colab": {
          "base_uri": "https://localhost:8080/",
          "height": 85
        }
      },
      "source": [
        "A = np.array([[1, 2, 3], [7, 8, 9], [13, 14, 15], [19, 20, 21]])\n",
        "print(A)"
      ],
      "execution_count": null,
      "outputs": [
        {
          "output_type": "stream",
          "text": [
            "[[ 1  2  3]\n",
            " [ 7  8  9]\n",
            " [13 14 15]\n",
            " [19 20 21]]\n"
          ],
          "name": "stdout"
        }
      ]
    },
    {
      "cell_type": "markdown",
      "metadata": {
        "id": "hj82Bba09i9U"
      },
      "source": [
        "Podemos acceder a los elementos de la matriz utilizando **corchetes**. Cuando acceda a los elementos de la matriz, recuerde que la **indexación en NumPy comienza en 0**. Eso significa que si desea acceder al primer elemento de su matriz, estará accediendo al elemento \"0\".\n",
        "\n",
        "<img src='https://drive.google.com/uc?export=view&id=18qtkEag596pYiUWuULj1f88v4L-1DEnq' width=\"500\" align=\"center\" style=\"margin-right: 20px\">"
      ]
    },
    {
      "cell_type": "code",
      "metadata": {
        "id": "uwxJsaQZ9i9V",
        "outputId": "77691261-d170-4a47-cc46-18073bc3d539",
        "colab": {
          "base_uri": "https://localhost:8080/",
          "height": 34
        }
      },
      "source": [
        "print(A[0])"
      ],
      "execution_count": null,
      "outputs": [
        {
          "output_type": "stream",
          "text": [
            "[1 2 3]\n"
          ],
          "name": "stdout"
        }
      ]
    },
    {
      "cell_type": "code",
      "metadata": {
        "id": "xFU1P_OV9i9X",
        "outputId": "9e2fef79-dcd0-4312-b628-93b799169cbd",
        "colab": {
          "base_uri": "https://localhost:8080/",
          "height": 34
        }
      },
      "source": [
        "print(A[2,1])"
      ],
      "execution_count": null,
      "outputs": [
        {
          "output_type": "stream",
          "text": [
            "14\n"
          ],
          "name": "stdout"
        }
      ]
    },
    {
      "cell_type": "code",
      "metadata": {
        "id": "Tb7KGHKwb9KM",
        "outputId": "bc36d478-98c7-4371-87fa-6148e9181408",
        "colab": {
          "base_uri": "https://localhost:8080/",
          "height": 34
        }
      },
      "source": [
        "#Observación:\n",
        "#Para una columna, fijar el : para traer todos los elementos\n",
        "print(A[:,2])\n"
      ],
      "execution_count": null,
      "outputs": [
        {
          "output_type": "stream",
          "text": [
            "[ 3  9 15 21]\n"
          ],
          "name": "stdout"
        }
      ]
    },
    {
      "cell_type": "markdown",
      "metadata": {
        "id": "ugHhWBvq9i9a"
      },
      "source": [
        "Una matriz N-dimensional es una matriz con cualquier número de dimensiones. También puede encontrar matrices 1D o matriz unidimensional, 2D o matriz bidimensional, etc.\n",
        "\n",
        "La clase ndarray de NumPy se utiliza para representar tanto matrices como vectores. Un vector es una matriz con una sola dimensión (no hay diferencia entre los vectores de fila y columna), mientras que una matriz se refiere a una matriz con dos dimensiones. Para matrices tridimensionales o superiores, el término tensor también se usa comúnmente.\n",
        "\n",
        "#### <font color='blue'>**¿Cuáles son los atributos de una matriz?**</font>\n",
        "\n",
        "Una matriz suele ser un contenedor de tamaño fijo de elementos del mismo tipo y tamaño. El número de dimensiones y elementos de una matriz se define por su forma. La forma de una matriz es una tupla de números enteros no negativos que especifican los tamaños de cada dimensión.\n",
        "\n",
        "En NumPy, las dimensiones se llaman ejes. Esto significa que si tiene una matriz 2D que se ve así:"
      ]
    },
    {
      "cell_type": "code",
      "metadata": {
        "id": "tkLAEqhY9i9a",
        "outputId": "bf6dcfc3-f5dc-4d4b-975d-b4ec16724291",
        "colab": {
          "base_uri": "https://localhost:8080/",
          "height": 34
        }
      },
      "source": [
        "[[0., 0., 0.],\n",
        " [1., 1., 1.]]"
      ],
      "execution_count": null,
      "outputs": [
        {
          "output_type": "execute_result",
          "data": {
            "text/plain": [
              "[[0.0, 0.0, 0.0], [1.0, 1.0, 1.0]]"
            ]
          },
          "metadata": {
            "tags": []
          },
          "execution_count": 12
        }
      ]
    },
    {
      "cell_type": "markdown",
      "metadata": {
        "id": "rkM2yewO9i9c"
      },
      "source": [
        "Su matriz tiene 2 ejes. El primer eje tiene una longitud de 2 y el segundo eje tiene una longitud de 3.\n",
        "\n",
        "Al igual que en otros objetos contenedores de Python, se puede acceder y modificar el contenido de una matriz indexando o dividiendo la matriz. A diferencia de los objetos contenedores típicos, diferentes matrices pueden compartir los mismos datos, por lo que los cambios realizados en una matriz pueden ser visibles en otra.\n",
        "\n",
        "Los atributos de la matriz reflejan información intrínseca a la propia matriz. Si necesita obtener, o incluso establecer, propiedades de una matriz sin crear una nueva matriz, a menudo puede acceder a una matriz a través de sus atributos. Para detalles y más información pinche <a href=”https://numpy.org/devdocs/reference/arrays.ndarray.html#arrays-ndarray”>aquí</a>. "
      ]
    },
    {
      "cell_type": "markdown",
      "metadata": {
        "id": "HrybO6-B9i9d"
      },
      "source": [
        "## <font color='green'>**Ejercicio 1**</font>"
      ]
    },
    {
      "cell_type": "markdown",
      "metadata": {
        "id": "rhMrjXbM9i9d"
      },
      "source": [
        "A partir de la matriz A definida anteriomente:\n",
        "\n",
        "1. Indicar el rango y la forma de la matriz A.\n",
        "1. Crear un vector *a1* que corresponda a la segunda columna de la matriz A.\n",
        "1. Crear una matriz *a2* que incluya los elementos de las filas 2 a 4 y de las columnas 2 a 3 de la matriz A.\n",
        "1. Crear un vector *a3* que contenga los elementos A[0,0], A[1,2], A[0,1], A[3,2], A[2,3] y A[1,1]\n",
        "1. Crear una matriz *a4* de 2x2 con las primeras dos filas.\n",
        "1. crear una matriz *a5* que contenga la última y la primera fila de la matriz A."
      ]
    },
    {
      "cell_type": "code",
      "metadata": {
        "id": "4irU2lyT9i9e",
        "outputId": "eb096ff1-fb45-4118-e352-175d911166d4",
        "colab": {
          "base_uri": "https://localhost:8080/",
          "height": 102
        }
      },
      "source": [
        "#Solución\n",
        "A = np.array([[1, 2, 3], [7, 8, 9], [13, 14, 15], [19, 20, 21]])\n",
        "\n",
        "dimensiones = A.ndim\n",
        "#print(dimensiones)\n",
        "\n",
        "tamano = A.size\n",
        "#print(tamano)\n",
        "\n",
        "a1 = A[:,1]\n",
        "#print(a1)\n",
        "\n",
        "#a2 = np.array(A[1:4,2:3] )\n",
        "a2 = np.array(A[1:3,1:2])\n",
        "print(a2)\n",
        "\n",
        "a3 = np.array([A[0,0], A[1,2] , A[0,1] , A[3,2] , A[2,2] , A[1,1]])\n",
        "print(a3)\n",
        "#a4 = np.array( [A[0:1,0:1], A[1:2,1:2]])\n",
        "#print(a4)\n",
        "a5 = np.array([A[3], A[0]] )\n",
        "print(a5)"
      ],
      "execution_count": null,
      "outputs": [
        {
          "output_type": "stream",
          "text": [
            "[[ 8]\n",
            " [14]]\n",
            "[ 1  9  2 21 15  8]\n",
            "[[19 20 21]\n",
            " [ 1  2  3]]\n"
          ],
          "name": "stdout"
        }
      ]
    },
    {
      "cell_type": "markdown",
      "metadata": {
        "id": "sFMmV6Bdjj34"
      },
      "source": [
        "## <font color='green'>**Fin ejercicio 1**</font>"
      ]
    },
    {
      "cell_type": "markdown",
      "metadata": {
        "id": "UAf2kncw9i9h"
      },
      "source": [
        "## <font color='blue'>**Creando vectores y matrices** </font>"
      ]
    },
    {
      "cell_type": "markdown",
      "metadata": {
        "id": "238Emlgc9i9h"
      },
      "source": [
        "Para crear una matriz NumPy, se puede utilizar la función **np.array()**.\n",
        "\n",
        "Todo lo que necesita hacer para crear una matriz simple es pasarle una lista. Si lo desea, también puede especificar el tipo de datos en su lista."
      ]
    },
    {
      "cell_type": "code",
      "metadata": {
        "id": "e6C2M_KH9i9i",
        "outputId": "72203bd2-805b-4800-c700-92aa7265c0c6",
        "colab": {
          "base_uri": "https://localhost:8080/",
          "height": 187
        }
      },
      "source": [
        "a = np.array([1, 2, 3])\n",
        "b = np.array([[1, 2, 3],[4, 5, 6]])\n",
        "c = np.array([[[1, 2, 3],[4, 5, 6]], [[7, 8, 9],[10, 11, 12]]])\n",
        "print(a)\n",
        "print()\n",
        "print(b)\n",
        "print()\n",
        "print(c)"
      ],
      "execution_count": null,
      "outputs": [
        {
          "output_type": "stream",
          "text": [
            "[1 2 3]\n",
            "\n",
            "[[1 2 3]\n",
            " [4 5 6]]\n",
            "\n",
            "[[[ 1  2  3]\n",
            "  [ 4  5  6]]\n",
            "\n",
            " [[ 7  8  9]\n",
            "  [10 11 12]]]\n"
          ],
          "name": "stdout"
        }
      ]
    },
    {
      "cell_type": "markdown",
      "metadata": {
        "id": "bTEl5Sat9i9k"
      },
      "source": [
        "Además de crear una matriz a partir de una secuencia de elementos, puede crear fácilmente un vector o una matriz llena de ceros:"
      ]
    },
    {
      "cell_type": "code",
      "metadata": {
        "id": "NhN-xYbq9i9l",
        "outputId": "620e288d-5360-4705-b85d-860c8ed49fb3",
        "colab": {
          "base_uri": "https://localhost:8080/",
          "height": 85
        }
      },
      "source": [
        "vector_ceros = np.zeros(5)\n",
        "matriz_ceros = np.zeros((2,5))\n",
        "print(vector_ceros)\n",
        "print()\n",
        "print(matriz_ceros)"
      ],
      "execution_count": null,
      "outputs": [
        {
          "output_type": "stream",
          "text": [
            "[0. 0. 0. 0. 0.]\n",
            "\n",
            "[[0. 0. 0. 0. 0.]\n",
            " [0. 0. 0. 0. 0.]]\n"
          ],
          "name": "stdout"
        }
      ]
    },
    {
      "cell_type": "markdown",
      "metadata": {
        "id": "_48CR0V69i9s"
      },
      "source": [
        "o un vector o matriz de 1s:"
      ]
    },
    {
      "cell_type": "code",
      "metadata": {
        "id": "G0kO6M_j9i9s",
        "outputId": "c9a81f87-99f7-4006-8902-ca919129c9b6",
        "colab": {
          "base_uri": "https://localhost:8080/",
          "height": 85
        }
      },
      "source": [
        "vector_unos = np.ones(5)\n",
        "matriz_unos = np.ones((2,5))\n",
        "print(vector_unos)\n",
        "print()\n",
        "print(matriz_unos)"
      ],
      "execution_count": null,
      "outputs": [
        {
          "output_type": "stream",
          "text": [
            "[1. 1. 1. 1. 1.]\n",
            "\n",
            "[[1. 1. 1. 1. 1.]\n",
            " [1. 1. 1. 1. 1.]]\n"
          ],
          "name": "stdout"
        }
      ]
    },
    {
      "cell_type": "markdown",
      "metadata": {
        "id": "3CPcoslQ9i9v"
      },
      "source": [
        "o un vector o matriz vacía. La función vacía crea una matriz cuyo contenido inicial es aleatorio y depende del estado de la memoria. La razón para usar vacío sobre ceros (o algo similar) es la velocidad, ¡solo asegúrese de completar todos los elementos después! &#128521; &#128521; &#128521;."
      ]
    },
    {
      "cell_type": "code",
      "metadata": {
        "id": "LnxtkbyJ9i9v",
        "outputId": "b505754b-79cb-4328-fcca-577adaaa6289",
        "colab": {
          "base_uri": "https://localhost:8080/",
          "height": 34
        }
      },
      "source": [
        "np.empty(5)"
      ],
      "execution_count": null,
      "outputs": [
        {
          "output_type": "execute_result",
          "data": {
            "text/plain": [
              "array([1., 1., 1., 1., 1.])"
            ]
          },
          "metadata": {
            "tags": []
          },
          "execution_count": 45
        }
      ]
    },
    {
      "cell_type": "markdown",
      "metadata": {
        "id": "kJYDvmDg9i9x"
      },
      "source": [
        "También es posible crear un vector con elementos dentro de un rango:"
      ]
    },
    {
      "cell_type": "code",
      "metadata": {
        "id": "hNJ4dNO29i9y",
        "outputId": "cb4de544-7498-4618-843f-8e540baf46f0",
        "colab": {
          "base_uri": "https://localhost:8080/",
          "height": 34
        }
      },
      "source": [
        "np.arange(4)"
      ],
      "execution_count": null,
      "outputs": [
        {
          "output_type": "execute_result",
          "data": {
            "text/plain": [
              "array([0, 1, 2, 3])"
            ]
          },
          "metadata": {
            "tags": []
          },
          "execution_count": 46
        }
      ]
    },
    {
      "cell_type": "markdown",
      "metadata": {
        "id": "tR_0NWrw9i91"
      },
      "source": [
        "Un vector que contiene un rango de intervalos espaciados uniformemente. Para hacer esto, debe especificar el primer número, el último número y el tamaño del paso."
      ]
    },
    {
      "cell_type": "code",
      "metadata": {
        "id": "7kalX1_89i91",
        "outputId": "21258d03-1eec-46d6-f991-43d3445fcf97",
        "colab": {
          "base_uri": "https://localhost:8080/",
          "height": 34
        }
      },
      "source": [
        "np.arange(3, 10, 2)"
      ],
      "execution_count": null,
      "outputs": [
        {
          "output_type": "execute_result",
          "data": {
            "text/plain": [
              "array([3, 5, 7, 9])"
            ]
          },
          "metadata": {
            "tags": []
          },
          "execution_count": 47
        }
      ]
    },
    {
      "cell_type": "markdown",
      "metadata": {
        "id": "ic7Bl_Hs9i93"
      },
      "source": [
        "También puede utilizar **np.linspace()** para crear una matriz con valores espaciados linealmente en un intervalo especificado:"
      ]
    },
    {
      "cell_type": "code",
      "metadata": {
        "id": "wW3kKZgV9i94",
        "outputId": "d0e0e040-55f4-482b-d5c1-03e73f1d6c93",
        "colab": {
          "base_uri": "https://localhost:8080/",
          "height": 34
        }
      },
      "source": [
        "np.linspace(0, 15, num=5)"
      ],
      "execution_count": null,
      "outputs": [
        {
          "output_type": "execute_result",
          "data": {
            "text/plain": [
              "array([ 0.  ,  3.75,  7.5 , 11.25, 15.  ])"
            ]
          },
          "metadata": {
            "tags": []
          },
          "execution_count": 48
        }
      ]
    },
    {
      "cell_type": "markdown",
      "metadata": {
        "id": "Eihq6Hor9i98"
      },
      "source": [
        "El tipo de datos predeterminado es punto flotante (*np.float64*), pero es posible especificar explícitamente qué tipo de datos desea, utilizando la palabra clave **dtype**. Para más información sobre tipo de datos, pinche <a href=”https://numpy.org/devdocs/reference/arrays.dtypes.html#arrays-dtypes”>aquí</a>."
      ]
    },
    {
      "cell_type": "code",
      "metadata": {
        "id": "D3X8V3hV9i98",
        "outputId": "6c6e8768-592e-4468-f2dc-2e495a3a41ba",
        "colab": {
          "base_uri": "https://localhost:8080/",
          "height": 34
        }
      },
      "source": [
        "x = np.ones(5, dtype=np.int64)\n",
        "x"
      ],
      "execution_count": null,
      "outputs": [
        {
          "output_type": "execute_result",
          "data": {
            "text/plain": [
              "array([1, 1, 1, 1, 1])"
            ]
          },
          "metadata": {
            "tags": []
          },
          "execution_count": 49
        }
      ]
    },
    {
      "cell_type": "markdown",
      "metadata": {
        "id": "RYQnTW1u9i9-"
      },
      "source": [
        "La matriz de identidad es una matriz cuadrada con unos en la diagonal principal:"
      ]
    },
    {
      "cell_type": "code",
      "metadata": {
        "id": "ZFfshoGM9i9_",
        "outputId": "9a27e1ee-9b33-49bb-edad-819a315ecc11",
        "colab": {
          "base_uri": "https://localhost:8080/",
          "height": 68
        }
      },
      "source": [
        "np.identity(3)"
      ],
      "execution_count": null,
      "outputs": [
        {
          "output_type": "execute_result",
          "data": {
            "text/plain": [
              "array([[1., 0., 0.],\n",
              "       [0., 1., 0.],\n",
              "       [0., 0., 1.]])"
            ]
          },
          "metadata": {
            "tags": []
          },
          "execution_count": 50
        }
      ]
    },
    {
      "cell_type": "markdown",
      "metadata": {
        "id": "g_nOdgNK9i-B"
      },
      "source": [
        "## <font color='blue'>**Operaciones con matrices**</font>"
      ]
    },
    {
      "cell_type": "markdown",
      "metadata": {
        "id": "WlXAmLx39i-B"
      },
      "source": [
        "Las operaciones básicas son simples con NumPy. Una vez que ha creado sus matrices, puede comenzar a trabajar con ellas. Por ejemplo, se han creado dos matrices, una llamada *a* y otra llamada *b*."
      ]
    },
    {
      "cell_type": "code",
      "metadata": {
        "id": "HxocIoQy9i-C",
        "outputId": "b45508d7-6fb4-4168-ff05-3494358aa97c",
        "colab": {
          "base_uri": "https://localhost:8080/",
          "height": 34
        }
      },
      "source": [
        "a = np.array([1, 2, 3, 4, 5])\n",
        "b = np.array([10, 3, 6, 8, 1], dtype=int)\n",
        "a + b"
      ],
      "execution_count": null,
      "outputs": [
        {
          "output_type": "execute_result",
          "data": {
            "text/plain": [
              "array([11,  5,  9, 12,  6])"
            ]
          },
          "metadata": {
            "tags": []
          },
          "execution_count": 51
        }
      ]
    },
    {
      "cell_type": "markdown",
      "metadata": {
        "id": "K8Tj0qui9i-F"
      },
      "source": [
        "Si desea encontrar la suma de los elementos en una matriz, debe usar **sum()**. Esto funciona para matrices 1D, matrices 2D y matrices en dimensiones más altas."
      ]
    },
    {
      "cell_type": "code",
      "metadata": {
        "id": "LRzxmChM9i-G",
        "outputId": "f29ad05d-e8ab-48bf-9f7b-09d09efd3490",
        "colab": {
          "base_uri": "https://localhost:8080/",
          "height": 34
        }
      },
      "source": [
        "a = np.array([1, 2, 3, 4])\n",
        "a.sum()"
      ],
      "execution_count": null,
      "outputs": [
        {
          "output_type": "execute_result",
          "data": {
            "text/plain": [
              "10"
            ]
          },
          "metadata": {
            "tags": []
          },
          "execution_count": 52
        }
      ]
    },
    {
      "cell_type": "markdown",
      "metadata": {
        "id": "1xCGCtUO9i-J"
      },
      "source": [
        "Para realizar esta operación en más dimensiones, debe especificar el eje."
      ]
    },
    {
      "cell_type": "code",
      "metadata": {
        "id": "u6Bf7dod9i-J",
        "outputId": "2856d40e-a2e3-4976-b5f3-0659609a1781",
        "colab": {
          "base_uri": "https://localhost:8080/",
          "height": 51
        }
      },
      "source": [
        "b = np.array([[1, 1], [2, 2]])\n"
      ],
      "execution_count": null,
      "outputs": [
        {
          "output_type": "execute_result",
          "data": {
            "text/plain": [
              "array([[1, 1],\n",
              "       [2, 2]])"
            ]
          },
          "metadata": {
            "tags": []
          },
          "execution_count": 56
        }
      ]
    },
    {
      "cell_type": "markdown",
      "metadata": {
        "id": "T7UM_gFh9i-L"
      },
      "source": [
        "Para sumar por filas:"
      ]
    },
    {
      "cell_type": "code",
      "metadata": {
        "id": "BwxmS45y9i-M",
        "outputId": "1fafbe7a-f3da-4cdc-d69b-23fb85db84b8",
        "colab": {
          "base_uri": "https://localhost:8080/",
          "height": 34
        }
      },
      "source": [
        "b.sum(axis=0)"
      ],
      "execution_count": null,
      "outputs": [
        {
          "output_type": "execute_result",
          "data": {
            "text/plain": [
              "array([3, 3])"
            ]
          },
          "metadata": {
            "tags": []
          },
          "execution_count": 57
        }
      ]
    },
    {
      "cell_type": "markdown",
      "metadata": {
        "id": "laH3M_4a9i-O"
      },
      "source": [
        "Para sumar por columnas:"
      ]
    },
    {
      "cell_type": "code",
      "metadata": {
        "id": "LzVMKXl69i-O",
        "outputId": "efc2f673-fae9-45da-9a19-e436d57f9533",
        "colab": {
          "base_uri": "https://localhost:8080/",
          "height": 34
        }
      },
      "source": [
        "b.sum(axis=1)"
      ],
      "execution_count": null,
      "outputs": [
        {
          "output_type": "execute_result",
          "data": {
            "text/plain": [
              "array([2, 4])"
            ]
          },
          "metadata": {
            "tags": []
          },
          "execution_count": 58
        }
      ]
    },
    {
      "cell_type": "markdown",
      "metadata": {
        "id": "Uv-IndhV9i-Q"
      },
      "source": [
        "Sustracción:"
      ]
    },
    {
      "cell_type": "code",
      "metadata": {
        "id": "nYZRPFq89i-R",
        "outputId": "2fbc82ea-6794-4e3d-8988-4f1aa201200c",
        "colab": {
          "base_uri": "https://localhost:8080/",
          "height": 163
        }
      },
      "source": [
        "a - b"
      ],
      "execution_count": null,
      "outputs": [
        {
          "output_type": "error",
          "ename": "ValueError",
          "evalue": "ignored",
          "traceback": [
            "\u001b[0;31m---------------------------------------------------------------------------\u001b[0m",
            "\u001b[0;31mValueError\u001b[0m                                Traceback (most recent call last)",
            "\u001b[0;32m<ipython-input-59-09bd029d0285>\u001b[0m in \u001b[0;36m<module>\u001b[0;34m()\u001b[0m\n\u001b[0;32m----> 1\u001b[0;31m \u001b[0ma\u001b[0m \u001b[0;34m-\u001b[0m \u001b[0mb\u001b[0m\u001b[0;34m\u001b[0m\u001b[0;34m\u001b[0m\u001b[0m\n\u001b[0m",
            "\u001b[0;31mValueError\u001b[0m: operands could not be broadcast together with shapes (4,) (2,2) "
          ]
        }
      ]
    },
    {
      "cell_type": "markdown",
      "metadata": {
        "id": "GtgehIq19i-U"
      },
      "source": [
        "Multiplicación por elementos:"
      ]
    },
    {
      "cell_type": "code",
      "metadata": {
        "id": "Ff-j_Bgc9i-U",
        "outputId": "c5837d63-7745-4723-a87e-1889d5ecd550",
        "colab": {
          "base_uri": "https://localhost:8080/",
          "height": 51
        }
      },
      "source": [
        "a = np.array( [[1,1],[2,1]] )\n",
        "b = np.array( [[2,4],[3,4]] )\n",
        "a * b"
      ],
      "execution_count": null,
      "outputs": [
        {
          "output_type": "execute_result",
          "data": {
            "text/plain": [
              "array([[2, 4],\n",
              "       [6, 4]])"
            ]
          },
          "metadata": {
            "tags": []
          },
          "execution_count": 60
        }
      ]
    },
    {
      "cell_type": "markdown",
      "metadata": {
        "id": "McUdjGXP9i-W"
      },
      "source": [
        "Multiplicación de matrices: se puede realizar utilizando el operador @ (en python> = 3.5) o la función o método **dot**:"
      ]
    },
    {
      "cell_type": "code",
      "metadata": {
        "id": "i7A1kmMK9i-X",
        "outputId": "cf13c3f9-ea83-4054-cfe8-7de34f604043",
        "colab": {
          "base_uri": "https://localhost:8080/",
          "height": 51
        }
      },
      "source": [
        "a @ b"
      ],
      "execution_count": null,
      "outputs": [
        {
          "output_type": "execute_result",
          "data": {
            "text/plain": [
              "array([[ 5,  8],\n",
              "       [ 7, 12]])"
            ]
          },
          "metadata": {
            "tags": []
          },
          "execution_count": 61
        }
      ]
    },
    {
      "cell_type": "code",
      "metadata": {
        "id": "yPSMwB6K9i-Z",
        "outputId": "a3fbad21-5c6f-4c7b-b502-323f6220f893",
        "colab": {
          "base_uri": "https://localhost:8080/",
          "height": 51
        }
      },
      "source": [
        "a.dot(b)"
      ],
      "execution_count": null,
      "outputs": [
        {
          "output_type": "execute_result",
          "data": {
            "text/plain": [
              "array([[ 5,  8],\n",
              "       [ 7, 12]])"
            ]
          },
          "metadata": {
            "tags": []
          },
          "execution_count": 62
        }
      ]
    },
    {
      "cell_type": "markdown",
      "metadata": {
        "id": "8G_rNcbh9i-b"
      },
      "source": [
        "División:"
      ]
    },
    {
      "cell_type": "code",
      "metadata": {
        "id": "9d3qqvfr9i-b",
        "outputId": "e4832969-03cd-44f9-a3af-485c1813aff3",
        "colab": {
          "base_uri": "https://localhost:8080/",
          "height": 51
        }
      },
      "source": [
        "a / b"
      ],
      "execution_count": null,
      "outputs": [
        {
          "output_type": "execute_result",
          "data": {
            "text/plain": [
              "array([[0.5       , 0.25      ],\n",
              "       [0.66666667, 0.25      ]])"
            ]
          },
          "metadata": {
            "tags": []
          },
          "execution_count": 63
        }
      ]
    },
    {
      "cell_type": "markdown",
      "metadata": {
        "id": "gwP_iXaS9i-f"
      },
      "source": [
        "Otras operaciones:"
      ]
    },
    {
      "cell_type": "code",
      "metadata": {
        "id": "21fm6z5T9i-g",
        "outputId": "ff68e999-a7bb-483a-a0bb-7d3f721d7bfe",
        "colab": {
          "base_uri": "https://localhost:8080/",
          "height": 102
        }
      },
      "source": [
        "a = np.array([20,30,40,50])\n",
        "b = np.arange(4)\n",
        "#Elevar a una potencia\n",
        "c = b**2\n",
        "print(c)\n",
        "print()\n",
        "#Función seno\n",
        "c = 10*np.sin(a)\n",
        "print(c)\n",
        "print()\n",
        "#Funciones lógicas\n",
        "c = a < 35\n",
        "print(c)"
      ],
      "execution_count": null,
      "outputs": [
        {
          "output_type": "stream",
          "text": [
            "[0 1 4 9]\n",
            "\n",
            "[ 9.12945251 -9.88031624  7.4511316  -2.62374854]\n",
            "\n",
            "[ True  True False False]\n"
          ],
          "name": "stdout"
        }
      ]
    },
    {
      "cell_type": "code",
      "metadata": {
        "id": "g9NUMzUu9i-i",
        "outputId": "9e15068b-519c-4248-abc0-ce14ca271f04",
        "colab": {
          "base_uri": "https://localhost:8080/",
          "height": 187
        }
      },
      "source": [
        "a = np.array([[0.45053314, 0.17296777, 0.34376245, 0.5510652],\n",
        "...              [0.54627315, 0.05093587, 0.40067661, 0.55645993],\n",
        "...              [0.12697628, 0.82485143, 0.26590556, 0.56917101]])\n",
        "#Mínimo\n",
        "b = a.min()\n",
        "print(b)\n",
        "print()\n",
        "#Máximo\n",
        "b = a.max()\n",
        "print(b)\n",
        "print()\n",
        "#Máximo por columna\n",
        "b = a.max(axis=1)\n",
        "print(b)\n",
        "print()\n",
        "#Media\n",
        "b = a.mean()\n",
        "print(b)\n",
        "print()\n",
        "#Desviación estándar\n",
        "b = a.std()\n",
        "print(b)\n",
        "print()"
      ],
      "execution_count": null,
      "outputs": [
        {
          "output_type": "stream",
          "text": [
            "0.05093587\n",
            "\n",
            "0.82485143\n",
            "\n",
            "[0.5510652  0.55645993 0.82485143]\n",
            "\n",
            "0.4049648666666667\n",
            "\n",
            "0.21392120766089617\n",
            "\n"
          ],
          "name": "stdout"
        }
      ]
    },
    {
      "cell_type": "markdown",
      "metadata": {
        "id": "Mdq6eKDV9i-k"
      },
      "source": [
        "NumPy contiene una batería de operaciones sobre matrices: aritméticas, operaciones binarias, estadísticas, funciones, entre otras. Para más información, pinche <a href=”https://numpy.org/devdocs/user/quickstart.html#the-basics”>aquí</a>."
      ]
    },
    {
      "cell_type": "markdown",
      "metadata": {
        "id": "XH4yPaVs9i-l"
      },
      "source": [
        "La generación de números aleatorios es una parte importante en la configuración y evaluación de muchos algoritmos de aprendizaje automático. Ya sea que necesite inicializar pesos aleatoriamente en una red neuronal artificial, dividir datos en conjuntos aleatorios o mezclar aleatoriamente su conjunto de datos, es esencial poder generar números aleatorios (en realidad, números pseudoaleatorios repetibles).\n",
        "\n",
        "Con **Generator.integers**, puede generar números enteros aleatorios. Puede generar una matriz de 2 x 4 de números enteros aleatorios entre 0 y 4 con:"
      ]
    },
    {
      "cell_type": "code",
      "metadata": {
        "id": "hUjpDnCX9i-l",
        "outputId": "8ce4a389-2862-4ae7-c8aa-2e6a85fe612f",
        "colab": {
          "base_uri": "https://localhost:8080/",
          "height": 51
        }
      },
      "source": [
        "rng = np.random.default_rng()\n",
        "rng.integers(5, size=(2, 4))"
      ],
      "execution_count": null,
      "outputs": [
        {
          "output_type": "execute_result",
          "data": {
            "text/plain": [
              "array([[1, 2, 4, 3],\n",
              "       [2, 3, 3, 3]])"
            ]
          },
          "metadata": {
            "tags": []
          },
          "execution_count": 5
        }
      ]
    },
    {
      "cell_type": "markdown",
      "metadata": {
        "id": "nkd6vN-D9i-n"
      },
      "source": [
        "Con la clase **random.Generator** puede generar números aleatorios:"
      ]
    },
    {
      "cell_type": "code",
      "metadata": {
        "id": "K2MbMEIP9i-o",
        "outputId": "1b9c011b-7a14-42e6-9e2d-b47a356faaa2",
        "colab": {
          "base_uri": "https://localhost:8080/",
          "height": 34
        }
      },
      "source": [
        "rng = np.random.default_rng(0)\n",
        "rng.random(3)"
      ],
      "execution_count": null,
      "outputs": [
        {
          "output_type": "execute_result",
          "data": {
            "text/plain": [
              "array([0.63696169, 0.26978671, 0.04097352])"
            ]
          },
          "metadata": {
            "tags": []
          },
          "execution_count": 4
        }
      ]
    },
    {
      "cell_type": "markdown",
      "metadata": {
        "id": "GBjkeafT9i-q"
      },
      "source": [
        "Algunas operaciones, como += y *=, actúan para modificar una matriz existente en lugar de crear una nueva."
      ]
    },
    {
      "cell_type": "code",
      "metadata": {
        "id": "CNoOGEI49i-r",
        "outputId": "74b46ea3-e876-4581-96cc-8403d65e49fd",
        "colab": {
          "base_uri": "https://localhost:8080/",
          "height": 102
        }
      },
      "source": [
        "rg = np.random.default_rng(1)\n",
        "a = np.ones((2,3), dtype=int)\n",
        "b = rg.random((2,3))\n",
        "a *= 3\n",
        "print(a)\n",
        "print()\n",
        "b += a\n",
        "print(b)"
      ],
      "execution_count": null,
      "outputs": [
        {
          "output_type": "stream",
          "text": [
            "[[3 3 3]\n",
            " [3 3 3]]\n",
            "\n",
            "[[3.51182162 3.9504637  3.14415961]\n",
            " [3.94864945 3.31183145 3.42332645]]\n"
          ],
          "name": "stdout"
        }
      ]
    },
    {
      "cell_type": "markdown",
      "metadata": {
        "id": "ZReAA7mO9i-v"
      },
      "source": [
        "Es posible realizar una operación entre una matriz y un solo número (operación entre un vector y un escalar) o entre matrices de dos tamaños diferentes. Por ejemplo:"
      ]
    },
    {
      "cell_type": "code",
      "metadata": {
        "id": "ppjf7CNG9i-v",
        "outputId": "ec6fc086-3c24-470a-ec92-ad745cc66eb3",
        "colab": {
          "base_uri": "https://localhost:8080/",
          "height": 34
        }
      },
      "source": [
        "distancia_millas = np.array([1.0, 2.0])\n",
        "distancia_km = distancia_millas * 1.6\n",
        "print(distancia_km)"
      ],
      "execution_count": null,
      "outputs": [
        {
          "output_type": "stream",
          "text": [
            "[1.6 3.2]\n"
          ],
          "name": "stdout"
        }
      ]
    },
    {
      "cell_type": "markdown",
      "metadata": {
        "id": "130dOJNT9i-z"
      },
      "source": [
        "## <font color='green'>**Ejercicio 2**</font>"
      ]
    },
    {
      "cell_type": "markdown",
      "metadata": {
        "id": "uPq-IqNu9i-0"
      },
      "source": [
        "1. Crear una matriz de 4x9 que esté inicializa con el valor 3.5.\n",
        "1. Crear un vector de longitud 4.\n",
        "1. Crear una matriz de rango 4.\n",
        "1. Crear una matriz de dos dimensiones en que una dimensión represente el sexo y la otra la edad de los integrantes del grupo. Luego, convertir la dimensión edad en años a la edad en meses.\n",
        "1. Generar una matriz de 7 por 9. Las primeras 3 columnas de la matriz tienen que tener el valor 0. La cuarta columna debe tener el valor 0.5, excepto por el último valor de esa columna, que tiene que ser 0.7.Las otras tres columnas deben tener el valor 1."
      ]
    },
    {
      "cell_type": "code",
      "metadata": {
        "id": "FC6uMh9G9i-1",
        "outputId": "8ef520b0-3f24-4404-c3b9-7055a1afc570",
        "colab": {
          "base_uri": "https://localhost:8080/",
          "height": 170
        }
      },
      "source": [
        "#Solución\n",
        "a1 = np.ones((4,9))\n",
        "a1[0,0] = 3.5\n",
        "print(a1)\n",
        "\n",
        "b = np.arange(4)\n",
        "print()\n",
        "print(b)\n",
        "\n",
        "c = \n",
        "d = np.array([ np.zeros(7) ,[31,23,45,67,78,23,12] ])\n",
        "print()\n",
        "print(d)\n",
        "\n",
        "e1 = np.zeros((7,3))\n"
      ],
      "execution_count": null,
      "outputs": [
        {
          "output_type": "stream",
          "text": [
            "[[3.5 1.  1.  1.  1.  1.  1.  1.  1. ]\n",
            " [1.  1.  1.  1.  1.  1.  1.  1.  1. ]\n",
            " [1.  1.  1.  1.  1.  1.  1.  1.  1. ]\n",
            " [1.  1.  1.  1.  1.  1.  1.  1.  1. ]]\n",
            "\n",
            "[0 1 2 3]\n",
            "\n",
            "[[ 0.  0.  0.  0.  0.  0.  0.]\n",
            " [31. 23. 45. 67. 78. 23. 12.]]\n"
          ],
          "name": "stdout"
        }
      ]
    },
    {
      "cell_type": "code",
      "metadata": {
        "id": "_yTdv2VQvo1M",
        "outputId": "4cacbbcc-c3d5-462c-81a7-2d1475e44ac3",
        "colab": {
          "base_uri": "https://localhost:8080/",
          "height": 170
        }
      },
      "source": [
        "e1 = np.zeros((7,3))\n",
        "e2 = np.ones(6)*0.5  \n",
        "#e2.append(0.7)\n",
        "#np.append(e2, 0.7, axis=None)\n",
        "e2 = np.append(e2, 0.7)\n",
        "\n",
        "#e3 = np.vstack((e1,e2)).T\n",
        "#e3 =np.append(e1, e2, axis=0)\n",
        "\n",
        "#b[:,:-1] = a\n",
        "print(e1)\n",
        "print(e2)\n",
        "print()\n",
        "#print(e3)\n"
      ],
      "execution_count": null,
      "outputs": [
        {
          "output_type": "stream",
          "text": [
            "[[0. 0. 0.]\n",
            " [0. 0. 0.]\n",
            " [0. 0. 0.]\n",
            " [0. 0. 0.]\n",
            " [0. 0. 0.]\n",
            " [0. 0. 0.]\n",
            " [0. 0. 0.]]\n",
            "[0.5 0.5 0.5 0.5 0.5 0.5 0.7]\n",
            "\n"
          ],
          "name": "stdout"
        }
      ]
    },
    {
      "cell_type": "markdown",
      "metadata": {
        "id": "s2SBgyDBkVbb"
      },
      "source": [
        "## <font color='green'>**Fin ejercicio 2**</font>"
      ]
    },
    {
      "cell_type": "markdown",
      "metadata": {
        "id": "jf4brU719i-4"
      },
      "source": [
        "## <font color='blue'>**Ordenar y agregar elementos a una matriz**</font>"
      ]
    },
    {
      "cell_type": "markdown",
      "metadata": {
        "id": "Quy7OtbJ9i-5"
      },
      "source": [
        "Ordenar un elemento es simple con **np.sort()**. Puede especificar el eje, el tipo y el orden cuando llama a la función."
      ]
    },
    {
      "cell_type": "code",
      "metadata": {
        "id": "qtNqi_-59i-5",
        "outputId": "bd2065bd-bcfa-45b0-a5c2-a395da96f7b1",
        "colab": {
          "base_uri": "https://localhost:8080/",
          "height": 34
        }
      },
      "source": [
        "arr = np.array([2, 1, 5, 10, 3, 7, 4, 9, 6, 8])\n",
        "np.sort(arr)"
      ],
      "execution_count": null,
      "outputs": [
        {
          "output_type": "execute_result",
          "data": {
            "text/plain": [
              "array([ 1,  2,  3,  4,  5,  6,  7,  8,  9, 10])"
            ]
          },
          "metadata": {
            "tags": []
          },
          "execution_count": 96
        }
      ]
    },
    {
      "cell_type": "code",
      "metadata": {
        "id": "PwDn9BPJ9i-7"
      },
      "source": [
        "a = np.array([1, 2, 3, 4])\n",
        "b = np.array([5, 6, 7, 8])"
      ],
      "execution_count": null,
      "outputs": []
    },
    {
      "cell_type": "markdown",
      "metadata": {
        "id": "p878Vbef9i-9"
      },
      "source": [
        "Para agregar elementos, se utiliza la función **np.concatenate()**:"
      ]
    },
    {
      "cell_type": "code",
      "metadata": {
        "id": "iW5VWwJ19i-9",
        "outputId": "420e74f6-ffae-4d23-9999-30c1e4a3dde2",
        "colab": {
          "base_uri": "https://localhost:8080/",
          "height": 34
        }
      },
      "source": [
        "np.concatenate((a, b))"
      ],
      "execution_count": null,
      "outputs": [
        {
          "output_type": "execute_result",
          "data": {
            "text/plain": [
              "array([1, 2, 3, 4, 5, 6, 7, 8])"
            ]
          },
          "metadata": {
            "tags": []
          },
          "execution_count": 98
        }
      ]
    },
    {
      "cell_type": "code",
      "metadata": {
        "id": "TlE78unA9i-_"
      },
      "source": [
        "x = np.array([[1, 2], [3, 4]])\n",
        "y = np.array([[5, 6]])"
      ],
      "execution_count": null,
      "outputs": []
    },
    {
      "cell_type": "code",
      "metadata": {
        "id": "N9h2zs7B9i_B",
        "outputId": "435dd386-fac3-4d3b-f6b9-22f9b96f3682",
        "colab": {
          "base_uri": "https://localhost:8080/",
          "height": 68
        }
      },
      "source": [
        "np.concatenate((x, y), axis=0)\n",
        "\n",
        "#Observación: No funciona con axis = 1"
      ],
      "execution_count": null,
      "outputs": [
        {
          "output_type": "execute_result",
          "data": {
            "text/plain": [
              "array([[1, 2],\n",
              "       [3, 4],\n",
              "       [5, 6]])"
            ]
          },
          "metadata": {
            "tags": []
          },
          "execution_count": 106
        }
      ]
    },
    {
      "cell_type": "markdown",
      "metadata": {
        "id": "BQEeQ4PZ9i_F"
      },
      "source": [
        "## <font color='blue'>**Forma y Tamaño de una matriz**</font>"
      ]
    },
    {
      "cell_type": "markdown",
      "metadata": {
        "id": "N9cFOb179i_F"
      },
      "source": [
        "**ndarray.ndim** entrega el número de ejes, o dimensiones, de la matriz.\n",
        "\n",
        "**ndarray.size** entrega el número total de elementos de la matriz.\n",
        "\n",
        "**ndarray.shape** entrega una tupla de números enteros que indican el número de elementos almacenados a lo largo de cada dimensión de la matriz. Si, por ejemplo, tiene una matriz 2D con 2 filas y 3 columnas, la forma de su matriz es (2, 3).\n",
        "\n",
        "Por ejemplo:"
      ]
    },
    {
      "cell_type": "code",
      "metadata": {
        "id": "V4yq-UqC9i_G"
      },
      "source": [
        "arr_ejemplo = np.array([[[0, 1, 2, 3],[4, 5, 6, 7]],[[0, 1, 2, 3],[4, 5, 6, 7]],[[0 ,1 ,2, 3],[4, 5, 6, 7]]])"
      ],
      "execution_count": null,
      "outputs": []
    },
    {
      "cell_type": "code",
      "metadata": {
        "id": "GGva_cNq9i_I",
        "outputId": "e162c6b0-8b7b-442d-b355-27bf838f8c0d",
        "colab": {
          "base_uri": "https://localhost:8080/",
          "height": 34
        }
      },
      "source": [
        "arr_ejemplo.ndim"
      ],
      "execution_count": null,
      "outputs": [
        {
          "output_type": "execute_result",
          "data": {
            "text/plain": [
              "3"
            ]
          },
          "metadata": {
            "tags": []
          },
          "execution_count": 108
        }
      ]
    },
    {
      "cell_type": "code",
      "metadata": {
        "id": "Bqxh400H9i_L",
        "outputId": "5750c3ba-454f-4d4f-d050-76982b27ae28",
        "colab": {
          "base_uri": "https://localhost:8080/",
          "height": 34
        }
      },
      "source": [
        "arr_ejemplo.size"
      ],
      "execution_count": null,
      "outputs": [
        {
          "output_type": "execute_result",
          "data": {
            "text/plain": [
              "24"
            ]
          },
          "metadata": {
            "tags": []
          },
          "execution_count": 109
        }
      ]
    },
    {
      "cell_type": "code",
      "metadata": {
        "id": "ySotF0Ok9i_P",
        "outputId": "44aa797e-bd5f-4951-e077-8cf18aa950a6",
        "colab": {
          "base_uri": "https://localhost:8080/",
          "height": 34
        }
      },
      "source": [
        "arr_ejemplo.shape"
      ],
      "execution_count": null,
      "outputs": [
        {
          "output_type": "execute_result",
          "data": {
            "text/plain": [
              "(3, 2, 4)"
            ]
          },
          "metadata": {
            "tags": []
          },
          "execution_count": 110
        }
      ]
    },
    {
      "cell_type": "markdown",
      "metadata": {
        "id": "T7r1a_cF9i_V"
      },
      "source": [
        "## <font color='blue'>**Redimensionamiento de matrices**</font>"
      ]
    },
    {
      "cell_type": "markdown",
      "metadata": {
        "id": "IFn5Mpyf9i_V"
      },
      "source": [
        "El uso de **arr.reshape()** le dará una nueva forma a una matriz sin cambiar los datos. Recuerde que cuando usa el método de redimensionamiento, la matriz que desea generar debe tener la misma cantidad de elementos que la matriz original. Si comienza con una matriz con 12 elementos, deberá asegurarse de que su nueva matriz también tenga un total de 12 elementos."
      ]
    },
    {
      "cell_type": "code",
      "metadata": {
        "id": "LIpNN-Md9i_W",
        "outputId": "f5c2572c-b33c-4ceb-d202-808c42597220",
        "colab": {
          "base_uri": "https://localhost:8080/",
          "height": 34
        }
      },
      "source": [
        "a = np.arange(6)\n",
        "print(a)"
      ],
      "execution_count": null,
      "outputs": [
        {
          "output_type": "stream",
          "text": [
            "[0 1 2 3 4 5]\n"
          ],
          "name": "stdout"
        }
      ]
    },
    {
      "cell_type": "code",
      "metadata": {
        "id": "kSCqLbgj9i_Y",
        "outputId": "a33751ca-88fb-4459-d43e-d854a526f075",
        "colab": {
          "base_uri": "https://localhost:8080/",
          "height": 68
        }
      },
      "source": [
        "b = a.reshape(3, 2)\n",
        "print(b)"
      ],
      "execution_count": null,
      "outputs": [
        {
          "output_type": "stream",
          "text": [
            "[[0 1]\n",
            " [2 3]\n",
            " [4 5]]\n"
          ],
          "name": "stdout"
        }
      ]
    },
    {
      "cell_type": "markdown",
      "metadata": {
        "id": "oqqmNBdB9i_c"
      },
      "source": [
        "## <font color='blue'>**Transponer una matriz**</font>"
      ]
    },
    {
      "cell_type": "code",
      "metadata": {
        "id": "fBwj39dT9i_d",
        "outputId": "7e5bed4e-ad39-4106-cd61-08b706aacd51",
        "colab": {
          "base_uri": "https://localhost:8080/",
          "height": 51
        }
      },
      "source": [
        "arr = np.arange(6).reshape((2, 3))\n",
        "arr"
      ],
      "execution_count": null,
      "outputs": [
        {
          "output_type": "execute_result",
          "data": {
            "text/plain": [
              "array([[0, 1, 2],\n",
              "       [3, 4, 5]])"
            ]
          },
          "metadata": {
            "tags": []
          },
          "execution_count": 113
        }
      ]
    },
    {
      "cell_type": "code",
      "metadata": {
        "id": "OSgt5cEf9i_g",
        "outputId": "d14d3f1d-d4dc-4fe3-a0c2-23b0e536f9bd",
        "colab": {
          "base_uri": "https://localhost:8080/",
          "height": 68
        }
      },
      "source": [
        "arr.transpose()"
      ],
      "execution_count": null,
      "outputs": [
        {
          "output_type": "execute_result",
          "data": {
            "text/plain": [
              "array([[0, 3],\n",
              "       [1, 4],\n",
              "       [2, 5]])"
            ]
          },
          "metadata": {
            "tags": []
          },
          "execution_count": 114
        }
      ]
    },
    {
      "cell_type": "markdown",
      "metadata": {
        "id": "4iCDRwg_9i_j"
      },
      "source": [
        "## <font color='blue'>**¿Cómo agregar nuevos ejes (dimensiones) a una matriz?**</font>\n",
        "\n",
        "Con las funcionaes **np.newaxis** y **np.expand_dims** se puede aumentar las dimensiones de su matriz existente.\n",
        "\n",
        "El uso de **np.newaxis** aumentará las dimensiones de su matriz en una dimensión cuando se use una vez. Esto significa que una matriz 1D se convertirá en una matriz 2D, una matriz 2D se convertirá en una matriz 3D, y así sucesivamente. Por ejemplo:"
      ]
    },
    {
      "cell_type": "code",
      "metadata": {
        "id": "UPW2-hlN9i_j",
        "outputId": "21c22a2f-3a00-403d-e884-2d41d0c641f2",
        "colab": {
          "base_uri": "https://localhost:8080/",
          "height": 34
        }
      },
      "source": [
        "a = np.array([1, 2, 3, 4, 5, 6, 7])\n",
        "a.shape"
      ],
      "execution_count": null,
      "outputs": [
        {
          "output_type": "execute_result",
          "data": {
            "text/plain": [
              "(7,)"
            ]
          },
          "metadata": {
            "tags": []
          },
          "execution_count": 118
        }
      ]
    },
    {
      "cell_type": "code",
      "metadata": {
        "id": "WugE0vgM9i_l",
        "outputId": "b17a3ce4-ef7d-4f2d-b742-8dbcb2b09f34",
        "colab": {
          "base_uri": "https://localhost:8080/",
          "height": 34
        }
      },
      "source": [
        "a2 = a[np.newaxis, :]\n",
        "a2.shape"
      ],
      "execution_count": null,
      "outputs": [
        {
          "output_type": "execute_result",
          "data": {
            "text/plain": [
              "(1, 7)"
            ]
          },
          "metadata": {
            "tags": []
          },
          "execution_count": 119
        }
      ]
    },
    {
      "cell_type": "markdown",
      "metadata": {
        "id": "zoq8FHQU9i_m"
      },
      "source": [
        "Es posible convertir explícitamente una matriz 1D a un vector de fila o a un vector de columna usando **np.newaxis**. Por ejemplo, puede convertir una matriz 1D en un vector de fila insertando un eje a lo largo de la primera dimensión:"
      ]
    },
    {
      "cell_type": "code",
      "metadata": {
        "id": "4Nt1J8JM9i_n",
        "outputId": "4cee8a57-f346-4d61-b2cd-a751aec6cd6c",
        "colab": {
          "base_uri": "https://localhost:8080/",
          "height": 34
        }
      },
      "source": [
        "row_vector = a[np.newaxis, :]\n",
        "row_vector.shape"
      ],
      "execution_count": null,
      "outputs": [
        {
          "output_type": "execute_result",
          "data": {
            "text/plain": [
              "(1, 7)"
            ]
          },
          "metadata": {
            "tags": []
          },
          "execution_count": 120
        }
      ]
    },
    {
      "cell_type": "markdown",
      "metadata": {
        "id": "CQVjfd659i_p"
      },
      "source": [
        "o convertirlo en un vector columna, insertando un ejer en la segundo dimensión:"
      ]
    },
    {
      "cell_type": "code",
      "metadata": {
        "id": "kn_qV_BK9i_q",
        "outputId": "4d78fbdd-cf91-404d-b6db-8926dc4684c8",
        "colab": {
          "base_uri": "https://localhost:8080/",
          "height": 34
        }
      },
      "source": [
        "col_vector = a[:, np.newaxis]\n",
        "col_vector.shape"
      ],
      "execution_count": null,
      "outputs": [
        {
          "output_type": "execute_result",
          "data": {
            "text/plain": [
              "(7, 1)"
            ]
          },
          "metadata": {
            "tags": []
          },
          "execution_count": 121
        }
      ]
    },
    {
      "cell_type": "markdown",
      "metadata": {
        "id": "TxN1GYoG9i_v"
      },
      "source": [
        "También es posible expandir una matriz insertando un nuevo eje en una posición específica con la función **np.expand_dims()**:"
      ]
    },
    {
      "cell_type": "code",
      "metadata": {
        "id": "0NIxWD4e9i_v",
        "outputId": "d9abbbfd-cce6-4077-8019-494dbc9c4bb8",
        "colab": {
          "base_uri": "https://localhost:8080/",
          "height": 34
        }
      },
      "source": [
        "a = np.array([1, 2, 3, 4, 5, 6])\n",
        "a.shape"
      ],
      "execution_count": null,
      "outputs": [
        {
          "output_type": "execute_result",
          "data": {
            "text/plain": [
              "(6,)"
            ]
          },
          "metadata": {
            "tags": []
          },
          "execution_count": 122
        }
      ]
    },
    {
      "cell_type": "code",
      "metadata": {
        "id": "-sZmcKZ69i_x",
        "outputId": "aab91c02-6c9f-4d36-c16c-09a4011fcb0e",
        "colab": {
          "base_uri": "https://localhost:8080/",
          "height": 34
        }
      },
      "source": [
        "b = np.expand_dims(a, axis=1)\n",
        "b.shape"
      ],
      "execution_count": null,
      "outputs": [
        {
          "output_type": "execute_result",
          "data": {
            "text/plain": [
              "(6, 1)"
            ]
          },
          "metadata": {
            "tags": []
          },
          "execution_count": 123
        }
      ]
    },
    {
      "cell_type": "code",
      "metadata": {
        "id": "VUL1Mhf_9i_z",
        "outputId": "679909a0-0d92-4837-92ed-b4fe8efb5307",
        "colab": {
          "base_uri": "https://localhost:8080/",
          "height": 34
        }
      },
      "source": [
        "c = np.expand_dims(a, axis=0)\n",
        "c.shape"
      ],
      "execution_count": null,
      "outputs": [
        {
          "output_type": "execute_result",
          "data": {
            "text/plain": [
              "(1, 6)"
            ]
          },
          "metadata": {
            "tags": []
          },
          "execution_count": 124
        }
      ]
    },
    {
      "cell_type": "markdown",
      "metadata": {
        "id": "_e8g5UfV9i_0"
      },
      "source": [
        "## <font color='blue'>**Elementos únicos y conteo**</font>"
      ]
    },
    {
      "cell_type": "code",
      "metadata": {
        "id": "RTHmOAUF9i_1",
        "outputId": "92ebbaf2-d411-481f-d8e9-cf6703a2125c",
        "colab": {
          "base_uri": "https://localhost:8080/",
          "height": 34
        }
      },
      "source": [
        "a = np.array([11, 11, 12, 13, 14, 15, 16, 17, 12, 13, 11, 14, 18, 19, 20])\n",
        "valores_unicos = np.unique(a)\n",
        "print(valores_unicos)"
      ],
      "execution_count": null,
      "outputs": [
        {
          "output_type": "stream",
          "text": [
            "[11 12 13 14 15 16 17 18 19 20]\n"
          ],
          "name": "stdout"
        }
      ]
    },
    {
      "cell_type": "markdown",
      "metadata": {
        "id": "vZvwSZ909i_2"
      },
      "source": [
        "Para obtener los índices de los valores únicos en una matriz NumPy se debe usar el argumento **return_index** en la función **np.unique()**:"
      ]
    },
    {
      "cell_type": "code",
      "metadata": {
        "id": "obLjqFcT9i_2",
        "outputId": "5c66686d-2dd4-48c9-9b65-6ac8386a2eba",
        "colab": {
          "base_uri": "https://localhost:8080/",
          "height": 34
        }
      },
      "source": [
        "valores_unicos, indices_list = np.unique(a, return_index=True)\n",
        "print(indices_list)"
      ],
      "execution_count": null,
      "outputs": [
        {
          "output_type": "stream",
          "text": [
            "[ 0  2  3  4  5  6  7 12 13 14]\n"
          ],
          "name": "stdout"
        }
      ]
    },
    {
      "cell_type": "markdown",
      "metadata": {
        "id": "5bFvnWl19i_4"
      },
      "source": [
        "Puede pasar el argumento **return_counts** en **np.unique()** junto con su matriz para obtener el recuento de frecuencia de valores únicos en una matriz de NumPy:"
      ]
    },
    {
      "cell_type": "code",
      "metadata": {
        "id": "uUFTEObX9i_4",
        "outputId": "82781c09-51bc-48a8-b07b-978548366024",
        "colab": {
          "base_uri": "https://localhost:8080/",
          "height": 34
        }
      },
      "source": [
        "valores_unicos, contar_ocurrencia = np.unique(a, return_counts=True)\n",
        "print(contar_ocurrencia)"
      ],
      "execution_count": null,
      "outputs": [
        {
          "output_type": "stream",
          "text": [
            "[3 2 2 2 1 1 1 1 1 1]\n"
          ],
          "name": "stdout"
        }
      ]
    },
    {
      "cell_type": "markdown",
      "metadata": {
        "id": "4Ty1Um1A9i_5"
      },
      "source": [
        "## <font color='blue'>**Aplicar una función sobre una fila o columna de una matriz**</font>"
      ]
    },
    {
      "cell_type": "markdown",
      "metadata": {
        "id": "IHfReGgY9i_6"
      },
      "source": [
        "La función **np.apply_along_axis()** permite aplicar una función sobre una de las dimisiones de un matriz. Por lo que es una herramienta con muchas posibilidades. La función tiene tres parámetros, en el primero se indica la función que se desea aplicar, en la segunda el eje sobre el que se desea aplicar la función y finalmente la matriz. Obteniéndose como salida de la función una matriz con un eje menos que el original.\n",
        "\n",
        "Por ejemplo:"
      ]
    },
    {
      "cell_type": "code",
      "metadata": {
        "id": "YTWxxC5G9i_6",
        "outputId": "ea76131c-0576-48bf-d16d-5d5994fd5507",
        "colab": {
          "base_uri": "https://localhost:8080/",
          "height": 85
        }
      },
      "source": [
        "arr = np.arange(1, 10).reshape(3,3)\n",
        "print(arr)\n",
        "np.apply_along_axis(sum, 0, arr)\n",
        "\n"
      ],
      "execution_count": null,
      "outputs": [
        {
          "output_type": "stream",
          "text": [
            "[[1 2 3]\n",
            " [4 5 6]\n",
            " [7 8 9]]\n"
          ],
          "name": "stdout"
        },
        {
          "output_type": "execute_result",
          "data": {
            "text/plain": [
              "array([12, 15, 18])"
            ]
          },
          "metadata": {
            "tags": []
          },
          "execution_count": 130
        }
      ]
    },
    {
      "cell_type": "code",
      "metadata": {
        "id": "8Fm_rbdN9i_7",
        "outputId": "20d13e17-89b3-4526-c075-9823612d9343",
        "colab": {
          "base_uri": "https://localhost:8080/",
          "height": 34
        }
      },
      "source": [
        "#Función que calcula el promedio entre el primero y el último elemento de un vector\n",
        "def my_func(a):\n",
        "    return (a[0] + a[-1]) * 0.5\n",
        "\n",
        "b = np.array([[1,2,3], [4,5,6], [7,8,9]])\n",
        "np.apply_along_axis(my_func, 0, b)"
      ],
      "execution_count": null,
      "outputs": [
        {
          "output_type": "execute_result",
          "data": {
            "text/plain": [
              "array([4., 5., 6.])"
            ]
          },
          "metadata": {
            "tags": []
          },
          "execution_count": 131
        }
      ]
    },
    {
      "cell_type": "code",
      "metadata": {
        "id": "iL-0nQTB9i_-",
        "outputId": "3f3d88d6-e26c-44be-fea1-9a80511892d4",
        "colab": {
          "base_uri": "https://localhost:8080/",
          "height": 34
        }
      },
      "source": [
        "np.apply_along_axis(my_func, 1, b)"
      ],
      "execution_count": null,
      "outputs": [
        {
          "output_type": "execute_result",
          "data": {
            "text/plain": [
              "array([2., 5., 8.])"
            ]
          },
          "metadata": {
            "tags": []
          },
          "execution_count": 132
        }
      ]
    },
    {
      "cell_type": "markdown",
      "metadata": {
        "id": "r6VHpJTJ9i__"
      },
      "source": [
        "## <font color='green'>**Ejercicio 3**</font>"
      ]
    },
    {
      "cell_type": "markdown",
      "metadata": {
        "id": "G-Q9SVlemfnj"
      },
      "source": [
        "Crear un matriz bidimensional 5x5 con todos los valores cero. Usando el indexado de matrices, asignar 1 a todos los elementos de la última fila y 5 a todos los elementos de la primera columna. Finalmente, asignar el valor 100 a todos los elementos de la subamatriz central de 3x3 de la matriz de 5x5."
      ]
    },
    {
      "cell_type": "code",
      "metadata": {
        "id": "p4kwdZ3e9jAA",
        "outputId": "f22b115e-6e34-4c33-9c89-b90d2619f05c",
        "colab": {
          "base_uri": "https://localhost:8080/",
          "height": 408
        }
      },
      "source": [
        "#Solución\n",
        "zero = np.zeros((5,5))\n",
        "print(zero)\n",
        "\n",
        "zero[4,:] = 1\n",
        "print()\n",
        "print(zero)\n",
        "\n",
        "zero[:,0] = 5\n",
        "print()\n",
        "print(zero)\n",
        "\n",
        "zero[1:4,1:4] = 100\n",
        "print()\n",
        "print(zero)\n"
      ],
      "execution_count": null,
      "outputs": [
        {
          "output_type": "stream",
          "text": [
            "[[0. 0. 0. 0. 0.]\n",
            " [0. 0. 0. 0. 0.]\n",
            " [0. 0. 0. 0. 0.]\n",
            " [0. 0. 0. 0. 0.]\n",
            " [0. 0. 0. 0. 0.]]\n",
            "\n",
            "[[0. 0. 0. 0. 0.]\n",
            " [0. 0. 0. 0. 0.]\n",
            " [0. 0. 0. 0. 0.]\n",
            " [0. 0. 0. 0. 0.]\n",
            " [1. 1. 1. 1. 1.]]\n",
            "\n",
            "[[5. 0. 0. 0. 0.]\n",
            " [5. 0. 0. 0. 0.]\n",
            " [5. 0. 0. 0. 0.]\n",
            " [5. 0. 0. 0. 0.]\n",
            " [5. 1. 1. 1. 1.]]\n",
            "\n",
            "[[  5.   0.   0.   0.   0.]\n",
            " [  5. 100. 100. 100.   0.]\n",
            " [  5. 100. 100. 100.   0.]\n",
            " [  5. 100. 100. 100.   0.]\n",
            " [  5.   1.   1.   1.   1.]]\n"
          ],
          "name": "stdout"
        }
      ]
    },
    {
      "cell_type": "markdown",
      "metadata": {
        "id": "6H_2sJOAlIxb"
      },
      "source": [
        "## <font color='green'>**Fin ejercicio 3**</font>"
      ]
    },
    {
      "cell_type": "markdown",
      "metadata": {
        "id": "x2JVn3iUmaMC"
      },
      "source": [
        "## <font color='green'>**Ejercicio 4**</font>"
      ]
    },
    {
      "cell_type": "markdown",
      "metadata": {
        "id": "Dl6EyB0Q9jAA"
      },
      "source": [
        "Los diámetros de las esporas del lycopodium pueden medirse por métodos interferométricos &#129299; &#129299; &#129299;. Los resultados de uno de estos experimentos son los siguientes:\n",
        "\n",
        "<img src='https://drive.google.com/uc?export=view&id=1te4LaaTF_WzyjPShqDOMnP9qDiswwZGG' width=\"500\" align=\"center\" style=\"margin-right: 20px\">\n",
        "\n",
        "donde $k$ = 5880.\n",
        "\n",
        "Calcular, usando funciones de NumPy, el diámetro medio de las esporas y la desviación estándar de la muestra. Separar, en matrices independientes, las medidas de los diámetros:\n",
        "\n",
        "* Que tengan valores inferiores a la media ($\\mu$) menos la desviación estándar ($\\sigma$), es decir $d < \\mu_{d} - \\sigma_{d}$\n",
        "* Que tengan valores superiores a la media más la desviación estándar, es decir $d > \\mu_{d} + \\sigma_{d}$\n",
        "* Que tengan valores entre $\\mu_{d} - \\sigma_{d} < d < \\mu_{d} + \\sigma_{d}$\n",
        "\n",
        "**Adaptado de Curso de Computación Científica, J. Pérez, T. Roca y C. López**"
      ]
    },
    {
      "cell_type": "code",
      "metadata": {
        "id": "3e-cfJ6zmjiH"
      },
      "source": [
        "#Solución\n",
        "\n"
      ],
      "execution_count": null,
      "outputs": []
    },
    {
      "cell_type": "markdown",
      "metadata": {
        "id": "B6jnUlWvmmjJ"
      },
      "source": [
        "## <font color='green'>**Fin ejercicio 4**</font>"
      ]
    }
  ]
}